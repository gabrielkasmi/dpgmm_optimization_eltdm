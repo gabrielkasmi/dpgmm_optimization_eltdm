{
 "cells": [
  {
   "cell_type": "markdown",
   "metadata": {},
   "source": [
    "# Elements logiciels  pour le traitement des données massives"
   ]
  },
  {
   "cell_type": "markdown",
   "metadata": {},
   "source": [
    "<b> Projet de fin de semestre - année universitaire 2019-2020 \n",
    "\n",
    "Hugo Thimonier, Gabriel Kasmi - 3A DS-SA </b>"
   ]
  },
  {
   "cell_type": "markdown",
   "metadata": {},
   "source": [
    "# 1. Présentation de l'algorithme et benchmark"
   ]
  },
  {
   "cell_type": "markdown",
   "metadata": {},
   "source": [
    "Dans ce premier notebook, nous présentons le problème, l'algorithme que nous utilisons et procédons à un premier benchemark sur sa performance. Dans les notebooks suivants, nous procéderons à une optimisation plus poussée de l'algorithme."
   ]
  },
  {
   "cell_type": "code",
   "execution_count": 1,
   "metadata": {},
   "outputs": [
    {
     "data": {
      "text/html": [
       "<div id=\"my_id_menu_nb\">run previous cell, wait for 2 seconds</div>\n",
       "<script>\n",
       "function repeat_indent_string(n){\n",
       "    var a = \"\" ;\n",
       "    for ( ; n > 0 ; --n)\n",
       "        a += \"    \";\n",
       "    return a;\n",
       "}\n",
       "// look up into all sections and builds an automated menu //\n",
       "var update_menu_string = function(begin, lfirst, llast, sformat, send, keep_item, begin_format, end_format) {\n",
       "    var anchors = document.getElementsByClassName(\"section\");\n",
       "    if (anchors.length == 0) {\n",
       "        anchors = document.getElementsByClassName(\"text_cell_render rendered_html\");\n",
       "    }\n",
       "    var i,t;\n",
       "    var text_menu = begin;\n",
       "    var text_memo = \"<pre>\\nlength:\" + anchors.length + \"\\n\";\n",
       "    var ind = \"\";\n",
       "    var memo_level = 1;\n",
       "    var href;\n",
       "    var tags = [];\n",
       "    var main_item = 0;\n",
       "    var format_open = 0;\n",
       "    for (i = 0; i <= llast; i++)\n",
       "        tags.push(\"h\" + i);\n",
       "\n",
       "    for (i = 0; i < anchors.length; i++) {\n",
       "        text_memo += \"**\" + anchors[i].id + \"--\\n\";\n",
       "\n",
       "        var child = null;\n",
       "        for(t = 0; t < tags.length; t++) {\n",
       "            var r = anchors[i].getElementsByTagName(tags[t]);\n",
       "            if (r.length > 0) {\n",
       "child = r[0];\n",
       "break;\n",
       "            }\n",
       "        }\n",
       "        if (child == null) {\n",
       "            text_memo += \"null\\n\";\n",
       "            continue;\n",
       "        }\n",
       "        if (anchors[i].hasAttribute(\"id\")) {\n",
       "            // when converted in RST\n",
       "            href = anchors[i].id;\n",
       "            text_memo += \"#1-\" + href;\n",
       "            // passer à child suivant (le chercher)\n",
       "        }\n",
       "        else if (child.hasAttribute(\"id\")) {\n",
       "            // in a notebook\n",
       "            href = child.id;\n",
       "            text_memo += \"#2-\" + href;\n",
       "        }\n",
       "        else {\n",
       "            text_memo += \"#3-\" + \"*\" + \"\\n\";\n",
       "            continue;\n",
       "        }\n",
       "        var title = child.textContent;\n",
       "        var level = parseInt(child.tagName.substring(1,2));\n",
       "\n",
       "        text_memo += \"--\" + level + \"?\" + lfirst + \"--\" + title + \"\\n\";\n",
       "\n",
       "        if ((level < lfirst) || (level > llast)) {\n",
       "            continue ;\n",
       "        }\n",
       "        if (title.endsWith('¶')) {\n",
       "            title = title.substring(0,title.length-1).replace(\"<\", \"&lt;\")\n",
       "         .replace(\">\", \"&gt;\").replace(\"&\", \"&amp;\");\n",
       "        }\n",
       "        if (title.length == 0) {\n",
       "            continue;\n",
       "        }\n",
       "\n",
       "        while (level < memo_level) {\n",
       "            text_menu += end_format + \"</ul>\\n\";\n",
       "            format_open -= 1;\n",
       "            memo_level -= 1;\n",
       "        }\n",
       "        if (level == lfirst) {\n",
       "            main_item += 1;\n",
       "        }\n",
       "        if (keep_item != -1 && main_item != keep_item + 1) {\n",
       "            // alert(main_item + \" - \" + level + \" - \" + keep_item);\n",
       "            continue;\n",
       "        }\n",
       "        while (level > memo_level) {\n",
       "            text_menu += \"<ul>\\n\";\n",
       "            memo_level += 1;\n",
       "        }\n",
       "        text_menu += repeat_indent_string(level-2);\n",
       "        text_menu += begin_format + sformat.replace(\"__HREF__\", href).replace(\"__TITLE__\", title);\n",
       "        format_open += 1;\n",
       "    }\n",
       "    while (1 < memo_level) {\n",
       "        text_menu += end_format + \"</ul>\\n\";\n",
       "        memo_level -= 1;\n",
       "        format_open -= 1;\n",
       "    }\n",
       "    text_menu += send;\n",
       "    //text_menu += \"\\n\" + text_memo;\n",
       "\n",
       "    while (format_open > 0) {\n",
       "        text_menu += end_format;\n",
       "        format_open -= 1;\n",
       "    }\n",
       "    return text_menu;\n",
       "};\n",
       "var update_menu = function() {\n",
       "    var sbegin = \"\";\n",
       "    var sformat = '<a href=\"#__HREF__\">__TITLE__</a>';\n",
       "    var send = \"\";\n",
       "    var begin_format = '<li>';\n",
       "    var end_format = '</li>';\n",
       "    var keep_item = -1;\n",
       "    var text_menu = update_menu_string(sbegin, 2, 4, sformat, send, keep_item,\n",
       "       begin_format, end_format);\n",
       "    var menu = document.getElementById(\"my_id_menu_nb\");\n",
       "    menu.innerHTML=text_menu;\n",
       "};\n",
       "window.setTimeout(update_menu,2000);\n",
       "            </script>"
      ],
      "text/plain": [
       "<IPython.core.display.HTML object>"
      ]
     },
     "execution_count": 1,
     "metadata": {},
     "output_type": "execute_result"
    }
   ],
   "source": [
    "from jyquickhelper import add_notebook_menu\n",
    "add_notebook_menu()"
   ]
  },
  {
   "cell_type": "code",
   "execution_count": 36,
   "metadata": {
    "collapsed": true
   },
   "outputs": [],
   "source": [
    "# Importation des libraires \n",
    "import random\n",
    "import numpy as np\n",
    "import matplotlib.pyplot as plt"
   ]
  },
  {
   "cell_type": "code",
   "execution_count": 37,
   "metadata": {
    "collapsed": true
   },
   "outputs": [],
   "source": [
    "# Importation du fichier contenant les fonctions nécessaires aux simulations\n",
    "%run '../lib/utilities.py'"
   ]
  },
  {
   "cell_type": "markdown",
   "metadata": {},
   "source": [
    "## Définition formelle du modèle"
   ]
  },
  {
   "cell_type": "markdown",
   "metadata": {},
   "source": [
    "On considère le modèle hiérarchique suivant:\n",
    "<ul> \n",
    "<li> $\\pi = (\\pi_1, \\pi_2, ...) \\sim GEM (\\alpha)$, $\\alpha >0$. $\\pi_i$ correspond à la probabilité de tomber dans le cluster $i$, pour $i>0$. La notation \"GEM\" fait référence à la distribution Griffiths–Engen–McCloskey. \n",
    "</li>\n",
    "<li> $\\mu_k \\overset{i.i.d.}{\\sim}\\mathcal{N}(\\mu_0, \\Sigma_0)$  </li>\n",
    "<li> $\\Sigma_k \\overset{i.i.d.}{\\sim}Inv-Wishart(S, \\nu)$ où $S = \\sigma_0 \\times I_2 $ </li>\n",
    "<li> $\\forall i\\in \\{1,\\dots, n\\},\\, z_i \\overset{i.i.d.}{\\sim}Categorical(\\pi)$, de telle sorte que $Z\\in\\{1,2,\\dots\\}$ avec probabilités respectives $\\pi_1,\\,\\pi_2, $ etc.</li>\n",
    "<li> $\\forall i\\in \\{1,\\dots, n\\},\\, x_i \\overset{indep}{\\sim}\\mathcal{N}(\\mu_{z_i}, \\Sigma_{z_i})$</li>\n",
    "</ul>\n",
    "Seuls les $x_i$ sont observés. \n",
    "\n",
    "Notons que l'on peut réécrire le modèle en terme de processus de Dirichelet en notant que nos observations suivent un $DP(\\alpha,P)$ où $P = \\mathcal{N}(\\mu_0,\\Sigma_0)$ est la mesure de base du processus.  \n",
    "\n",
    "Les hyperparamètres sont $\\mu_0,\\Sigma_0,\\sigma_0,\\nu$ et $\\alpha$. \n",
    "\n",
    "\n",
    "\n",
    "Dans le modèle d'inférence, nous spécifierons en plus un paramètre $\\sigma_x$ correspondant au bruit contenu dans les observations. "
   ]
  },
  {
   "cell_type": "markdown",
   "metadata": {},
   "source": [
    "## Simulation des données"
   ]
  },
  {
   "cell_type": "markdown",
   "metadata": {},
   "source": [
    "### Modèle de simulation"
   ]
  },
  {
   "cell_type": "markdown",
   "metadata": {},
   "source": [
    "Dans le modèle de simulation, le nombre de clusters $K$ n'est pas aléatoire mais choisi par l'utilisateur. Les poids des différents clusters sont déterminés aléatoirement ou alors calés uniforméments. \n",
    "\n",
    "Dans le premier cas, on réalise $K$ tirage d'une $\\mathcal{U}[0,1]$ que l'on ordonne ensuite pour avoir les poids des clusters tels que $\\sum_{k=1}^K \\pi_k = 1$ . \n",
    "\n",
    "Dans le second, les poids $\\pi_i = \\pi = 1/K$\n",
    "\n",
    "L'utilisateur spéficie également un nombre d'observations $n_{obs}$. Les hyperparamètres, décrits dans la section précédente sont initialisés par défaut avec les valeurs suivantes:\n",
    "\n",
    "<ul>\n",
    "<li> $\\mu_0 = \\begin{pmatrix} 0 \\\\ 0 \\end{pmatrix}$ </li>\n",
    "<li> $\\Sigma_0 = \\begin{pmatrix}32 & 0 \\\\ 0 & 32\\end{pmatrix}$</li>\n",
    "<li> $\\nu = 9$</li>\n",
    "<li> $\\sigma_0$ = 1 de sorte que S = $I_2$</li>\n",
    "\n",
    "</ul>\n",
    "\n"
   ]
  },
  {
   "cell_type": "code",
   "execution_count": 4,
   "metadata": {
    "collapsed": true
   },
   "outputs": [],
   "source": [
    "# Paramètres entrés par l'utilisateur:\n",
    "\n",
    "# Définition de la graine (pour la reproducibilité)\n",
    "random.seed(42)\n",
    "\n",
    "# Taille de l'échantillon.\n",
    "n_obs = 250\n",
    "\n",
    "# Distribution a priori des centroïdes des clusters :\n",
    "mu_0 = np.array([0, 0]) # Espérance de la loi normale pour mu.\n",
    "Sigma_0 = 32 * np.eye(2) # Variance (échelle) de la loi normale pour mu.\n",
    "\n",
    "# Distribution a priori des variances des clusters : \n",
    "nu = 9.0 # Nombre de degrés de liberté de la loi inv-Wishart.\n",
    "sigma_0 =  1. # \"Variance\" (échelle) pour la loi inv-Wishart.\n",
    "\n",
    "# Paramètres spéficiques à la simulation.\n",
    "K = 5 # Nombre de clusters.\n",
    "isUniform = False # Indicatrice pour savoir si l'assignation aux clusters est uniforme ou non. \n",
    "                  # Dans le cas où l'assignation n'est pas uniforme, les poids des clusters sont \n",
    "                  # tirés aléatoirement. "
   ]
  },
  {
   "cell_type": "code",
   "execution_count": 5,
   "metadata": {},
   "outputs": [
    {
     "name": "stdout",
     "output_type": "stream",
     "text": [
      "Le poids associé au cluster 1 est 0.260103302412912\n",
      "Le poids associé au cluster 2 est 0.17496863446907596\n",
      "Le poids associé au cluster 3 est 0.20716592524307376\n",
      "Le poids associé au cluster 4 est 0.3338170354414227\n",
      "Le poids associé au cluster 5 est 0.023945102433515553\n",
      "Les poids somment à 1.0\n"
     ]
    }
   ],
   "source": [
    "# Générer les paramètres des lois des clusters (mu_k et sigma_k) selon des Gaussiennes et une inv-Wishart.\n",
    "parameters, weights = generate_cluster_parameters(mu_0, Sigma_0, sigma_0, nu, K, isUniform)\n",
    "# Afficher les poids pour chaque cluster\n",
    "for par, w in zip(parameters.keys(), weights):\n",
    "    print(\"Le poids associé au cluster %s est %s\" % (par, w))\n",
    "print(\"Les poids somment à %s\" % (sum(weights)))"
   ]
  },
  {
   "cell_type": "code",
   "execution_count": 6,
   "metadata": {
    "collapsed": true
   },
   "outputs": [],
   "source": [
    "# Générer des observations et les ordonner par clusters\n",
    "observations = generate_observations(n_obs, parameters, weights)"
   ]
  },
  {
   "cell_type": "markdown",
   "metadata": {},
   "source": [
    "### Visualisation des données simulées"
   ]
  },
  {
   "cell_type": "code",
   "execution_count": 8,
   "metadata": {},
   "outputs": [
    {
     "data": {
      "image/png": "[encoded data removed]",
      "text/plain": [
       "<matplotlib.figure.Figure at 0x1a217c68d0>"
      ]
     },
     "metadata": {},
     "output_type": "display_data"
    }
   ],
   "source": [
    "# Afficher les observations simulées (exécuter la cellule deux fois pour avoir un meilleur affichage)\n",
    "plot_clustered_observations(observations)"
   ]
  },
  {
   "cell_type": "code",
   "execution_count": 9,
   "metadata": {
    "collapsed": true
   },
   "outputs": [],
   "source": [
    "# Conversion au format DataFrame et export en .csv des données simulées.\n",
    "observations_dataframe = convert_to_df(observations).to_csv('../data/simulated_observations.csv', index = False)"
   ]
  },
  {
   "cell_type": "markdown",
   "metadata": {},
   "source": [
    "On génère ensuite des jeux de 500 et 1000 observations. Ces jeux de données plus grands nous permettront de voir comment l'algorithme se comporte lorsque le nombre d'observations augmente. Le jeu de données de base contient 250 observations, nous en générons deux supplémentaires de 500 et 1000 observations respectivement."
   ]
  },
  {
   "cell_type": "code",
   "execution_count": 11,
   "metadata": {
    "collapsed": true
   },
   "outputs": [],
   "source": [
    "# 500 observations\n",
    "observations = generate_observations(500, parameters, weights)\n",
    "observations_dataframe = convert_to_df(observations).to_csv('../data/simulated_observations_500.csv', index = False)\n",
    "\n",
    "# 1000 observations\n",
    "observations = generate_observations(1000, parameters, weights)\n",
    "observations_dataframe = convert_to_df(observations).to_csv('../data/simulated_observations_1000.csv', index = False)"
   ]
  },
  {
   "cell_type": "markdown",
   "metadata": {},
   "source": [
    "## Présentation de l'algorithme et premier benchmark"
   ]
  },
  {
   "cell_type": "markdown",
   "metadata": {},
   "source": [
    "Une manière courante de représenter le DP-GMM est d'utiliser la métaphore dire du restaurant chinois (CRP). Dans cette métaphore, les clusters sont des tables et pour chaque observation, la question est de savoir si elle doit rejoindre une table déjà existante ou bien être assignée à une nouvelle table. \n",
    "\n",
    "En utilisant la définition \"chinese restaurant process\" du DP-GMM, nous implémentons un algorithme de Gibbs pour assigner les observations à des clusters. Les tables sont identifiées par un couple $\\phi_k:=(\\mu_k,\\tau_k)$ la moyenne et la précision du cluster. La probabilité de s'installer à une table est proportionnelle au nombre d'observations déjà assignées à cette table. \n",
    "\n",
    "Nous allons dans un premier temps calculer la probabilité <i> a posteriori </i> d'être assigné à un cluster $k$ puis nous en déduirons les probabilités a posteriori pour une observation d'appartenir à ce cluster. \n",
    "\n",
    "<b> Probabilité <i> a posteriori </i> d'être assigné à un cluster </b>\n",
    "\n",
    "La probabilité d'être assigné à un cluster (on néglige pour l'instant la dimension spaciale donnée par la deuxième partie du modèle hiérarchique) est la suivante:\n",
    "$$\n",
    "\\begin{aligned}\n",
    "p(c_1,\\dots,c_k\\mid \\alpha ) &= \\displaystyle{\\int p(c_1,\\dots,c_k\\mid \\pi_1,\\mid,\\pi_k ) \\times p(\\pi_1,\\dots,\\pi_k\\mid\\alpha)\\mathrm{d}\\pi_1\\dots\\mathrm{d}\\pi_k}\\\\\n",
    "&= \\displaystyle{\\frac{\\Gamma(\\alpha)}{\\Gamma\\left(\\alpha/K\\right)^k}\\int \\prod_{k=1}^K\\pi^{n_k+\\alpha/K-1}\\mathrm{d}\\pi_k\n",
    "}\\\\\n",
    "&= \\displaystyle{\\frac{\\Gamma(\\alpha)}{\\Gamma(n+\\alpha)}\\prod_{k=1}^K\\frac{\\Gamma(n_k+\\alpha/K)}{\\Gamma(\\alpha/K)}\n",
    "}\\\\\n",
    "\\end{aligned}\n",
    "$$\n",
    "D'où l'on peut finalement déduire que $\\displaystyle{p(c_i = k\\mid c_{-i},\\alpha) = \\frac{n_{-i,k}+\\alpha/K}{n-1+\\alpha}\n",
    "}$ où $x_{-i}$ désigne le vecteur $x$ privé de la $i$ème coordonnée. Enfin, en prenant pour $K\\to\\infty$, on obtient que la probabilité d'assignation à un cluster est\n",
    "$$\n",
    "\\begin{array}{ll}\n",
    "\\textrm{pour les clusters où }n_{-i,k} > 0 \\;:\\;& p(c_i\\mid c_{-i},\\alpha) = \\displaystyle{\\frac{n_{-i,k}}{n-1+\\alpha}} \\\\\n",
    "\\textrm{pour tous les autres clusters } :\\;& p(c_j\\neq c_k \\forall j\\neq i\\mid c_{-i},\\alpha) = \\displaystyle{\\frac{\\alpha}{n-1+\\alpha}}\n",
    "\\end{array}\n",
    "$$\n",
    "On vérifie bien que la probabilité d'assignation est proportionnelle au facteur $\\alpha$.\n",
    "\n",
    "\n",
    "<b> Probabilité <i> a posteriori </i> d'appartenir à un cluster </b>\n",
    "\n",
    "L'idée dans le CRP est de traiter les observations séquentiellement. On commence par suppose que chaque observation $x\\sim \\mathcal{N}(\\mu,\\sigma_x^2)$. Compte tenu du fait que $\\mu\\sim\\mathcal{N}(\\mu_0,\\sigma_0^2)$, on a finalement que $\\tilde{x}\\sim\\mathcal{N}(\\mu_0,\\sigma_0^2 + \\sigma_x^2)$. Cela nous donne la densité <i> a posteriori </i> d'une observation ne se rattachant à aucun cluster. \n",
    "\n",
    "Pour une observation qui se rattache à un cluster, nous avons $\\displaystyle{\\tilde{x}\\sim\\mathcal{N}\\left(\\underbrace{\\frac{\\bar x_k n_k \\tau_k + \\mu_0\\tau_0 }{n_k\\tau_k+\\tau_0}}_{\\mu_p},\\underbrace{\\frac{1}{n_k\\tau_k+\\tau_0}}_{\\sigma^2_p}+\\sigma_x^2\n",
    "\\right)\n",
    "}$ où $\\tau$ désigne la précision (donc $\\tau = 1/\\sigma$). Nous utilisons le fait que le modèle est conjugué. Les détails des calculs sont présentés dans le rapport. \n",
    "\n",
    "On peut donc résumer la distribution <i> a posteriori </i> des $c_i$:\n",
    "$$\n",
    "\\begin{array}{ll}\n",
    "\\textrm{pour les clusters où }n_{-i,k} > 0 \\;:\\;& p(c_i\\mid c_{-i},\\mu_p,\\tau_p,\\alpha)\\propto p(c_i\\mid c_{-i}\\alpha)\\times p(\\tilde{x}\\mid \\mu_p, \\tau_p, c_{-i}) \\propto \\displaystyle{\\frac{n_{-i,k}}{n-1+\\alpha} \\times \\mathcal{N}(\\tilde{x_i};\\mu_p,\\sigma_p^2+\\sigma_x^2)} \\\\\n",
    "\\textrm{pour tous les autres clusters } :\\;& p(c_j\\neq c_k \\forall j\\neq i\\mid c_{-i}, \\tau_0, \\mu_0, \\alpha) \\propto \\displaystyle{\\frac{\\alpha}{n-1+\\alpha}\\times \\mathcal{N}(\\tilde{x_j};\\mu_0,\\sigma_0^2+\\sigma_x^2)}\n",
    "\\end{array}\n",
    "$$\n",
    "Où la notation $\\mathcal{N}(x;\\mu,\\sigma^2)$ désigne l'évaluation de la densité d'une $\\mathcal{N}(\\mu,\\sigma^2)$ en $x$.\n",
    "\n",
    "Nous pouvons finalement en déduire l'algorithme suivant: \n",
    "\n",
    "<ul>\n",
    "<li> Input : $\\alpha$, $\\mu_0$, $\\sigma_0^2$, $\\sigma_x^2$ </li>\n",
    "<li> Pour $i \\le n_{iter}$ </li>\n",
    "<ul> \n",
    "<li> Pour $j \\le n_{obs}$ </li>\n",
    "<ul>\n",
    "<li> Enlever $x_i$ de son cluster car nous allons le rééchantillonner </li>\n",
    "<li> Echantillonner $c_i \\mid c_{-i}, x$ de la manière suivante: </li>\n",
    "<li> Pour $k \\le N_{cluster} +1 $ </li>\n",
    "<ul>\n",
    "<li> Calculer la probabilité que $c_i = k$ d'après la formule suivante :</li> \n",
    "<li> $p(c_i= k\\mid c_{-i},\\mu_p,\\tau_p,\\alpha)\\propto \\frac{n_{-i,k}}{n-1+\\alpha} \\times \\mathcal{N}(\\tilde{x_i};\\mu_p,\\sigma_p^2+\\sigma_x^2)$</li> \n",
    "\n",
    "<li> Calculer la probabilité que $c_i = N_{cluster} + 1$ d'après la formule suivante :</li> \n",
    "<li> $p(c_j\\neq c_k \\forall j\\neq i\\mid c_{-i}, \\tau_0, \\mu_0, \\alpha) \\propto \\frac{\\alpha}{n-1+\\alpha}\\times \\mathcal{N}(\\tilde{x_j};\\mu_0,\\sigma_0^2+\\sigma_x^2)$ </li>\n",
    "</ul>\n",
    "<li> $c^{i} = c_j$, le cluster échantillonné devient le \"nouveau\" cluster de l'observation. </li>\n",
    "</ul>\n",
    "</ul>\n",
    "</ul>\n",
    "<li> Output : renvoyer $c$. </li>\n",
    "\n"
   ]
  },
  {
   "cell_type": "markdown",
   "metadata": {},
   "source": [
    "### Une première exécution"
   ]
  },
  {
   "cell_type": "markdown",
   "metadata": {},
   "source": [
    "Dans cette section, nous exécutons l'algorithme en conditions \"réelles\" et observons le temps d'exécution, les threads et le profil des fonctions appelées. Dans les notebooks suivants, nous optimiserons cet algorithme et analyseront les résultats de manière plus fine. "
   ]
  },
  {
   "cell_type": "code",
   "execution_count": 12,
   "metadata": {
    "collapsed": true
   },
   "outputs": [],
   "source": [
    "# Paramètres complémentaires pour l'inférence.\n",
    "alpha = 0.03 # Paramètre d'échelle pour le processus de Dirichelet.\n",
    "sigma_x = 0.5 # Bruit sur les observations.\n",
    "\n",
    "\n",
    "# Nombre d'itérations pour l'algorithme de Gibbs :\n",
    "n_iter = 1000"
   ]
  },
  {
   "cell_type": "code",
   "execution_count": 38,
   "metadata": {},
   "outputs": [
    {
     "data": {
      "text/html": [
       "<div>\n",
       "<style scoped>\n",
       "    .dataframe tbody tr th:only-of-type {\n",
       "        vertical-align: middle;\n",
       "    }\n",
       "\n",
       "    .dataframe tbody tr th {\n",
       "        vertical-align: top;\n",
       "    }\n",
       "\n",
       "    .dataframe thead th {\n",
       "        text-align: right;\n",
       "    }\n",
       "</style>\n",
       "<table border=\"1\" class=\"dataframe\">\n",
       "  <thead>\n",
       "    <tr style=\"text-align: right;\">\n",
       "      <th></th>\n",
       "      <th>x_coordinate</th>\n",
       "      <th>y_coordinate</th>\n",
       "    </tr>\n",
       "  </thead>\n",
       "  <tbody>\n",
       "    <tr>\n",
       "      <th>0</th>\n",
       "      <td>3.378057</td>\n",
       "      <td>4.933422</td>\n",
       "    </tr>\n",
       "    <tr>\n",
       "      <th>1</th>\n",
       "      <td>-8.385058</td>\n",
       "      <td>4.309316</td>\n",
       "    </tr>\n",
       "    <tr>\n",
       "      <th>2</th>\n",
       "      <td>3.997994</td>\n",
       "      <td>6.233421</td>\n",
       "    </tr>\n",
       "    <tr>\n",
       "      <th>3</th>\n",
       "      <td>1.723696</td>\n",
       "      <td>1.696573</td>\n",
       "    </tr>\n",
       "    <tr>\n",
       "      <th>4</th>\n",
       "      <td>3.614551</td>\n",
       "      <td>5.210928</td>\n",
       "    </tr>\n",
       "  </tbody>\n",
       "</table>\n",
       "</div>"
      ],
      "text/plain": [
       "   x_coordinate  y_coordinate\n",
       "0      3.378057      4.933422\n",
       "1     -8.385058      4.309316\n",
       "2      3.997994      6.233421\n",
       "3      1.723696      1.696573\n",
       "4      3.614551      5.210928"
      ]
     },
     "execution_count": 38,
     "metadata": {},
     "output_type": "execute_result"
    }
   ],
   "source": [
    "# Importation du CSV des observations simulées\n",
    "# Si on veut charger le fichier \"sauvegardé\" avec 5 clusters, commenter la ligne 3 et décommenter la ligne 4.\n",
    "raw_input = pd.read_csv('../data/simulated_observations.csv')\n",
    "# raw_input = pd.read_csv('simulated_observations_5_clusters.csv')\n",
    "data = raw_input[[\"x_coordinate\",'y_coordinate']]\n",
    "data.head()"
   ]
  },
  {
   "cell_type": "code",
   "execution_count": 15,
   "metadata": {},
   "outputs": [
    {
     "name": "stderr",
     "output_type": "stream",
     "text": [
      "100% |########################################################################|\r"
     ]
    },
    {
     "name": "stdout",
     "output_type": "stream",
     "text": [
      "CPU times: user 10min 40s, sys: 1min 2s, total: 11min 43s\n",
      "Wall time: 6min 33s\n"
     ]
    },
    {
     "name": "stderr",
     "output_type": "stream",
     "text": [
      "\n"
     ]
    }
   ],
   "source": [
    "%%time\n",
    "# Les paramètres pour l'inférence ont été définis en début de section. \n",
    "# Pour les paramètres des lois a priori, on reprend les mêmes que ceux qui ont généré les données. \n",
    "\n",
    "# Pour l'assignation des clusters, on a le choix. On commence avec une assignation dans un même cluster. \n",
    "c_pooled = np.ones(data.shape[0])\n",
    "# On exécute l'algorithme\n",
    "assignations_pooled = dpmm_algorithm0(data, alpha, mu_0, Sigma_0, sigma_x, n_iter, c_pooled)"
   ]
  },
  {
   "cell_type": "markdown",
   "metadata": {},
   "source": [
    "### Analyse des threads"
   ]
  },
  {
   "cell_type": "markdown",
   "metadata": {},
   "source": [
    "On réduit le nombre d'itérations de l'algorithme à 1 et on analyse plus précisément les fonctions appelées, les temps d'éxecution. "
   ]
  },
  {
   "cell_type": "code",
   "execution_count": 43,
   "metadata": {
    "scrolled": false
   },
   "outputs": [
    {
     "name": "stderr",
     "output_type": "stream",
     "text": [
      "  0% |                                                                        |\r"
     ]
    },
    {
     "name": "stdout",
     "output_type": "stream",
     "text": [
      "500\n"
     ]
    },
    {
     "name": "stderr",
     "output_type": "stream",
     "text": [
      "100% |########################################################################|\n"
     ]
    },
    {
     "name": "stdout",
     "output_type": "stream",
     "text": [
      "         357258 function calls (357253 primitive calls) in 0.847 seconds\n",
      "\n",
      "   Ordered by: standard name\n",
      "\n",
      "   ncalls  tottime  percall  cumtime  percall filename:lineno(function)\n",
      "     2489    0.003    0.000    0.036    0.000 <__array_function__ internals>:2(amax)\n",
      "     2489    0.002    0.000    0.024    0.000 <__array_function__ internals>:2(amin)\n",
      "        1    0.000    0.000    0.000    0.000 <__array_function__ internals>:2(concatenate)\n",
      "        1    0.000    0.000    0.000    0.000 <__array_function__ internals>:2(diff)\n",
      "     8456    0.007    0.000    0.029    0.000 <__array_function__ internals>:2(dot)\n",
      "     1990    0.002    0.000    0.098    0.000 <__array_function__ internals>:2(inv)\n",
      "     2489    0.003    0.000    0.009    0.000 <__array_function__ internals>:2(iscomplexobj)\n",
      "        1    0.000    0.000    0.000    0.000 <__array_function__ internals>:2(nonzero)\n",
      "      500    0.001    0.000    0.009    0.000 <__array_function__ internals>:2(prod)\n",
      "     7467    0.008    0.000    0.101    0.000 <__array_function__ internals>:2(sum)\n",
      "        1    0.000    0.000    0.000    0.000 <__array_function__ internals>:2(unique)\n",
      "     1989    0.002    0.000    0.009    0.000 <__array_function__ internals>:2(where)\n",
      "        1    0.000    0.000    0.847    0.847 <string>:1(<module>)\n",
      "    14435    0.005    0.000    0.020    0.000 _asarray.py:16(asarray)\n",
      "        3    0.000    0.000    0.000    0.000 _asarray.py:88(asanyarray)\n",
      "        1    0.000    0.000    0.000    0.000 _collections_abc.py:657(get)\n",
      "     2489    0.001    0.000    0.015    0.000 _methods.py:47(_all)\n",
      "     2489    0.014    0.000    0.015    0.000 _multivariate.py:104(<listcomp>)\n",
      "     2489    0.062    0.000    0.401    0.000 _multivariate.py:147(__init__)\n",
      "     2489    0.010    0.000    0.023    0.000 _multivariate.py:359(_process_parameters)\n",
      "     2489    0.004    0.000    0.006    0.000 _multivariate.py:40(_squeeze_output)\n",
      "     2489    0.005    0.000    0.007    0.000 _multivariate.py:419(_process_quantiles)\n",
      "     2489    0.041    0.000    0.079    0.000 _multivariate.py:437(_logpdf)\n",
      "     2489    0.017    0.000    0.532    0.000 _multivariate.py:464(logpdf)\n",
      "     2489    0.016    0.000    0.063    0.000 _multivariate.py:52(_eigvalsh_to_eps)\n",
      "     2489    0.006    0.000    0.032    0.000 _multivariate.py:87(_pinv_1d)\n",
      "     2489    0.017    0.000    0.054    0.000 _util.py:192(_asarray_validated)\n",
      "       10    0.000    0.000    0.000    0.000 _weakrefset.py:70(__contains__)\n",
      "        6    0.000    0.000    0.000    0.000 abc.py:180(__instancecheck__)\n",
      "        1    0.000    0.000    0.000    0.000 arraysetops.py:138(_unpack_tuple)\n",
      "        1    0.000    0.000    0.000    0.000 arraysetops.py:146(_unique_dispatcher)\n",
      "        1    0.000    0.000    0.000    0.000 arraysetops.py:151(unique)\n",
      "        1    0.000    0.000    0.000    0.000 arraysetops.py:297(_unique1d)\n",
      "     2489    0.002    0.000    0.003    0.000 base.py:1202(isspmatrix)\n",
      "        1    0.000    0.000    0.000    0.000 base.py:641(__len__)\n",
      "     2489    0.013    0.000    0.030    0.000 blas.py:218(find_best_blas_type)\n",
      "     2489    0.002    0.000    0.002    0.000 blas.py:259(<listcomp>)\n",
      "     2489    0.020    0.000    0.058    0.000 blas.py:279(_get_funcs)\n",
      "        1    0.000    0.000    0.000    0.000 common.py:89(is_object_dtype)\n",
      "     2489    0.002    0.000    0.002    0.000 core.py:6251(isMaskedArray)\n",
      "     2489    0.060    0.000    0.186    0.000 decomp.py:240(eigh)\n",
      "        1    0.000    0.000    0.000    0.000 fromnumeric.py:1755(_nonzero_dispatcher)\n",
      "        1    0.000    0.000    0.000    0.000 fromnumeric.py:1759(nonzero)\n",
      "     7467    0.002    0.000    0.002    0.000 fromnumeric.py:2040(_sum_dispatcher)\n",
      "     7467    0.013    0.000    0.084    0.000 fromnumeric.py:2045(sum)\n",
      "     2489    0.001    0.000    0.001    0.000 fromnumeric.py:2499(_amax_dispatcher)\n",
      "     2489    0.004    0.000    0.029    0.000 fromnumeric.py:2504(amax)\n",
      "     2489    0.001    0.000    0.001    0.000 fromnumeric.py:2624(_amin_dispatcher)\n",
      "     2489    0.003    0.000    0.019    0.000 fromnumeric.py:2629(amin)\n",
      "      500    0.000    0.000    0.000    0.000 fromnumeric.py:2787(_prod_dispatcher)\n",
      "      500    0.001    0.000    0.008    0.000 fromnumeric.py:2792(prod)\n",
      "        1    0.000    0.000    0.000    0.000 fromnumeric.py:55(_wrapfunc)\n",
      "    12945    0.029    0.000    0.115    0.000 fromnumeric.py:73(_wrapreduction)\n",
      "    12945    0.010    0.000    0.010    0.000 fromnumeric.py:74(<dictcomp>)\n",
      "        1    0.000    0.000    0.000    0.000 function_base.py:1143(_diff_dispatcher)\n",
      "        1    0.000    0.000    0.000    0.000 function_base.py:1147(diff)\n",
      "     2489    0.013    0.000    0.032    0.000 function_base.py:432(asarray_chkfinite)\n",
      "        1    0.000    0.000    0.000    0.000 generic.py:4378(__setattr__)\n",
      "        1    0.000    0.000    0.000    0.000 generic.py:4423(_protect_consolidate)\n",
      "        1    0.000    0.000    0.000    0.000 generic.py:4433(_consolidate_inplace)\n",
      "        1    0.000    0.000    0.000    0.000 generic.py:4436(f)\n",
      "        1    0.000    0.000    0.000    0.000 generic.py:4563(values)\n",
      "     3489    0.006    0.000    0.007    0.000 getlimits.py:365(__new__)\n",
      "        1    0.000    0.000    0.000    0.000 internals.py:213(get_values)\n",
      "        2    0.000    0.000    0.000    0.000 internals.py:233(mgr_locs)\n",
      "        1    0.000    0.000    0.000    0.000 internals.py:3311(ndim)\n",
      "        1    0.000    0.000    0.000    0.000 internals.py:3351(_is_single_block)\n",
      "        1    0.000    0.000    0.000    0.000 internals.py:3384(_get_items)\n",
      "        1    0.000    0.000    0.000    0.000 internals.py:3473(__len__)\n",
      "        1    0.000    0.000    0.000    0.000 internals.py:3776(is_consolidated)\n",
      "        1    0.000    0.000    0.000    0.000 internals.py:3922(as_array)\n",
      "        1    0.000    0.000    0.000    0.000 internals.py:4085(consolidate)\n",
      "       10    0.000    0.000    0.001    0.000 iostream.py:180(schedule)\n",
      "        3    0.000    0.000    0.000    0.000 iostream.py:284(_is_master_process)\n",
      "        3    0.000    0.000    0.000    0.000 iostream.py:297(_schedule_flush)\n",
      "        2    0.000    0.000    0.005    0.002 iostream.py:311(flush)\n",
      "        3    0.000    0.000    0.000    0.000 iostream.py:342(write)\n",
      "       10    0.000    0.000    0.000    0.000 iostream.py:87(_event_pipe)\n",
      "     2489    0.003    0.000    0.062    0.000 lapack.py:496(get_lapack_funcs)\n",
      "     1990    0.003    0.000    0.003    0.000 linalg.py:111(get_linalg_error_extobj)\n",
      "     1990    0.003    0.000    0.005    0.000 linalg.py:116(_makearray)\n",
      "     3980    0.002    0.000    0.002    0.000 linalg.py:121(isComplexType)\n",
      "     1990    0.001    0.000    0.002    0.000 linalg.py:134(_realType)\n",
      "     1990    0.006    0.000    0.009    0.000 linalg.py:144(_commonType)\n",
      "     1990    0.002    0.000    0.002    0.000 linalg.py:203(_assertRankAtLeast2)\n",
      "     1990    0.002    0.000    0.002    0.000 linalg.py:209(_assertNdSquareness)\n",
      "     1990    0.001    0.000    0.001    0.000 linalg.py:482(_unary_dispatcher)\n",
      "     1990    0.065    0.000    0.092    0.000 linalg.py:486(inv)\n",
      "     2489    0.001    0.000    0.001    0.000 misc.py:169(_datacopied)\n",
      "        1    0.000    0.000    0.000    0.000 multiarray.py:145(concatenate)\n",
      "     1989    0.001    0.000    0.001    0.000 multiarray.py:312(where)\n",
      "     8456    0.002    0.000    0.002    0.000 multiarray.py:707(dot)\n",
      "     1000    0.001    0.000    0.002    0.000 numerictypes.py:293(issubclass_)\n",
      "      500    0.001    0.000    0.004    0.000 numerictypes.py:365(issubdtype)\n",
      "     4978    0.003    0.000    0.004    0.000 numerictypes.py:578(_can_coerce_all)\n",
      "     2489    0.007    0.000    0.013    0.000 numerictypes.py:602(find_common_type)\n",
      "     2489    0.002    0.000    0.002    0.000 numerictypes.py:654(<listcomp>)\n",
      "     2489    0.000    0.000    0.000    0.000 numerictypes.py:655(<listcomp>)\n",
      "        1    0.000    0.000    0.000    0.000 os.py:664(__getitem__)\n",
      "        1    0.000    0.000    0.000    0.000 os.py:742(encode)\n",
      "        1    0.000    0.000    0.000    0.000 progressbar.py:131(__call__)\n",
      "        1    0.000    0.000    0.000    0.000 progressbar.py:144(__iter__)\n",
      "        2    0.000    0.000    0.005    0.003 progressbar.py:148(__next__)\n",
      "        1    0.000    0.000    0.000    0.000 progressbar.py:168(_env_size)\n",
      "        1    0.000    0.000    0.000    0.000 progressbar.py:174(_handle_resize)\n",
      "        2    0.000    0.000    0.000    0.000 progressbar.py:181(percentage)\n",
      "        2    0.000    0.000    0.000    0.000 progressbar.py:192(_format_widgets)\n",
      "        2    0.000    0.000    0.000    0.000 progressbar.py:219(_format_line)\n",
      "        2    0.000    0.000    0.000    0.000 progressbar.py:228(_need_update)\n",
      "        1    0.000    0.000    0.000    0.000 progressbar.py:236(_update_widgets)\n",
      "        4    0.000    0.000    0.000    0.000 progressbar.py:239(<genexpr>)\n",
      "        2    0.000    0.000    0.005    0.003 progressbar.py:243(update)\n",
      "        1    0.000    0.000    0.004    0.004 progressbar.py:267(start)\n",
      "        1    0.000    0.000    0.002    0.002 progressbar.py:296(finish)\n",
      "        1    0.000    0.000    0.000    0.000 progressbar.py:94(__init__)\n",
      "       12    0.000    0.000    0.000    0.000 threading.py:1062(_wait_for_tstate_lock)\n",
      "       12    0.000    0.000    0.000    0.000 threading.py:1104(is_alive)\n",
      "        2    0.000    0.000    0.000    0.000 threading.py:215(__init__)\n",
      "        2    0.000    0.000    0.000    0.000 threading.py:239(__enter__)\n",
      "        2    0.000    0.000    0.000    0.000 threading.py:242(__exit__)\n",
      "        2    0.000    0.000    0.000    0.000 threading.py:248(_release_save)\n",
      "        2    0.000    0.000    0.000    0.000 threading.py:251(_acquire_restore)\n",
      "        2    0.000    0.000    0.000    0.000 threading.py:254(_is_owned)\n",
      "        2    0.000    0.000    0.004    0.002 threading.py:263(wait)\n",
      "        2    0.000    0.000    0.000    0.000 threading.py:498(__init__)\n",
      "       12    0.000    0.000    0.000    0.000 threading.py:506(is_set)\n",
      "        2    0.000    0.000    0.004    0.002 threading.py:533(wait)\n",
      "        2    0.000    0.000    0.000    0.000 twodim_base.py:154(eye)\n",
      "     2489    0.001    0.000    0.001    0.000 type_check.py:209(_is_type_dispatcher)\n",
      "     2489    0.003    0.000    0.004    0.000 type_check.py:282(iscomplexobj)\n",
      "        1    0.089    0.089    0.847    0.847 utilities.py:179(dpmm_algorithm0)\n",
      "      500    0.002    0.000    0.002    0.000 utilities.py:305(<listcomp>)\n",
      "        2    0.000    0.000    0.000    0.000 widgets.py:229(update)\n",
      "        2    0.000    0.000    0.000    0.000 widgets.py:299(update)\n",
      "        8    0.000    0.000    0.000    0.000 widgets.py:302(<genexpr>)\n",
      "       10    0.000    0.000    0.000    0.000 widgets.py:38(format_updatable)\n",
      "        4    0.000    0.000    0.000    0.000 {built-in method _thread.allocate_lock}\n",
      "     7467    0.007    0.000    0.007    0.000 {built-in method builtins.abs}\n",
      "        1    0.000    0.000    0.000    0.000 {built-in method builtins.any}\n",
      "        1    0.000    0.000    0.847    0.847 {built-in method builtins.exec}\n",
      "     7472    0.008    0.000    0.008    0.000 {built-in method builtins.getattr}\n",
      "       10    0.000    0.000    0.000    0.000 {built-in method builtins.hasattr}\n",
      "    14944    0.006    0.000    0.006    0.000 {built-in method builtins.isinstance}\n",
      "     9959    0.003    0.000    0.003    0.000 {built-in method builtins.issubclass}\n",
      "        1    0.000    0.000    0.000    0.000 {built-in method builtins.iter}\n",
      "14958/14956    0.003    0.000    0.003    0.000 {built-in method builtins.len}\n",
      "      503    0.002    0.000    0.002    0.000 {built-in method builtins.max}\n",
      "        2    0.000    0.000    0.000    0.000 {built-in method builtins.next}\n",
      "        1    0.000    0.000    0.000    0.000 {built-in method fcntl.ioctl}\n",
      "        2    0.000    0.000    0.000    0.000 {built-in method math.ceil}\n",
      "     2489    0.002    0.000    0.002    0.000 {built-in method math.log}\n",
      "    17427    0.027    0.000    0.027    0.000 {built-in method numpy.array}\n",
      "27873/27870    0.044    0.000    0.281    0.000 {built-in method numpy.core._multiarray_umath.implement_array_function}\n",
      "        1    0.000    0.000    0.000    0.000 {built-in method numpy.core._multiarray_umath.normalize_axis_index}\n",
      "      502    0.001    0.000    0.001    0.000 {built-in method numpy.empty}\n",
      "        2    0.000    0.000    0.000    0.000 {built-in method numpy.zeros}\n",
      "        3    0.000    0.000    0.000    0.000 {built-in method posix.getpid}\n",
      "       10    0.000    0.000    0.000    0.000 {built-in method posix.urandom}\n",
      "        3    0.000    0.000    0.000    0.000 {built-in method time.time}\n",
      "     1990    0.000    0.000    0.000    0.000 {method '__array_prepare__' of 'numpy.ndarray' objects}\n",
      "        2    0.000    0.000    0.000    0.000 {method '__enter__' of '_thread.lock' objects}\n",
      "        2    0.000    0.000    0.000    0.000 {method '__exit__' of '_thread.lock' objects}\n",
      "       20    0.004    0.000    0.004    0.000 {method 'acquire' of '_thread.lock' objects}\n",
      "     2489    0.002    0.000    0.017    0.000 {method 'all' of 'numpy.ndarray' objects}\n",
      "        2    0.000    0.000    0.000    0.000 {method 'append' of 'collections.deque' objects}\n",
      "     2496    0.001    0.000    0.001    0.000 {method 'append' of 'list' objects}\n",
      "     1991    0.005    0.000    0.005    0.000 {method 'astype' of 'numpy.ndarray' objects}\n",
      "      500    0.030    0.000    0.044    0.000 {method 'choice' of 'numpy.random.mtrand.RandomState' objects}\n",
      "        1    0.000    0.000    0.000    0.000 {method 'disable' of '_lsprof.Profiler' objects}\n",
      "        1    0.000    0.000    0.000    0.000 {method 'encode' of 'str' objects}\n",
      "        1    0.000    0.000    0.000    0.000 {method 'flatten' of 'numpy.ndarray' objects}\n",
      "    10457    0.004    0.000    0.004    0.000 {method 'get' of 'dict' objects}\n",
      "     2489    0.001    0.000    0.001    0.000 {method 'index' of 'list' objects}\n",
      "        2    0.000    0.000    0.000    0.000 {method 'insert' of 'list' objects}\n",
      "    12945    0.002    0.000    0.002    0.000 {method 'items' of 'dict' objects}\n",
      "        2    0.000    0.000    0.000    0.000 {method 'join' of 'str' objects}\n",
      "      501    0.000    0.000    0.000    0.000 {method 'keys' of 'dict' objects}\n",
      "        4    0.000    0.000    0.000    0.000 {method 'ljust' of 'str' objects}\n",
      "     2489    0.001    0.000    0.001    0.000 {method 'lower' of 'str' objects}\n",
      "        1    0.000    0.000    0.000    0.000 {method 'nonzero' of 'numpy.ndarray' objects}\n",
      "        2    0.000    0.000    0.000    0.000 {method 'pop' of 'list' objects}\n",
      "    15434    0.087    0.000    0.087    0.000 {method 'reduce' of 'numpy.ufunc' objects}\n",
      "        2    0.000    0.000    0.000    0.000 {method 'release' of '_thread.lock' objects}\n",
      "        1    0.000    0.000    0.000    0.000 {method 'sort' of 'numpy.ndarray' objects}\n",
      "     2489    0.002    0.000    0.002    0.000 {method 'squeeze' of 'numpy.ndarray' objects}\n",
      "        1    0.000    0.000    0.000    0.000 {method 'transpose' of 'numpy.ndarray' objects}\n",
      "\n",
      "\n"
     ]
    }
   ],
   "source": [
    "import cProfile\n",
    "cProfile.run('dpmm_algorithm0(data, alpha, mu_0, Sigma_0, sigma_x, 1, c_pooled)')\n"
   ]
  },
  {
   "cell_type": "code",
   "execution_count": 29,
   "metadata": {},
   "outputs": [
    {
     "name": "stderr",
     "output_type": "stream",
     "text": [
      "100% |########################################################################|\n"
     ]
    }
   ],
   "source": [
    "# Affichage des threads sous forme de graphe\n",
    "\n",
    "from pycallgraph import PyCallGraph\n",
    "from pycallgraph.output import GraphvizOutput\n",
    "\n",
    "graphviz = GraphvizOutput()\n",
    "graphviz.output_file = '../figures/threads_baseline_algorithm.png'\n",
    "\n",
    "with PyCallGraph(output=graphviz, config=None):\n",
    "    dpmm_algorithm0(data, alpha, mu_0, Sigma_0, sigma_x, 1, c_pooled)"
   ]
  },
  {
   "cell_type": "code",
   "execution_count": 31,
   "metadata": {},
   "outputs": [
    {
     "data": {
      "image/png": "[encoded data removed]",
      "text/plain": [
       "<IPython.core.display.Image object>"
      ]
     },
     "execution_count": 31,
     "metadata": {},
     "output_type": "execute_result"
    }
   ],
   "source": [
    "from IPython.display import Image\n",
    "Image(filename='../figures/threads_baseline_algorithm.png') "
   ]
  },
  {
   "cell_type": "markdown",
   "metadata": {},
   "source": [
    "Cette première version de l'algorithme ne fait pas appel à des fonctions intermédiaires. Pour optimiser les performances, nous allons réécrire cet algorithme et le tester dans le notebook suivant ; notamment en introduisant trois fonctions clefs dans le calcul et la performance. Dans le notebook 3, nous présenteront les résultats avec ces fonctions réécrites et dans le 4e notebook nous verrons les performances lorsqu'elles sont parallélisées."
   ]
  },
  {
   "cell_type": "markdown",
   "metadata": {
    "collapsed": true
   },
   "source": [
    "### Conclusions"
   ]
  },
  {
   "cell_type": "markdown",
   "metadata": {},
   "source": [
    "On observe que l'algorithme s'il parvient à prédire de manière très satisfaisante les clusters d'appartenance quand les données sont séparées comme c'est le cas ici, celui-ci peut être très lent dans son execution. Si l'on se refère au graphique ci avant on peut observer que bon nombres de fonction python sont appelées très souvent pouvant être une des causes de la lenteur de l'algorithme.\n",
    "Afin de mieux comprendre la structure des appels des fonctions, nous allons procéder dans le prochain notebook à la fonctionnalisation de l'algorithme en créant des fonctions externes qu'appellera notre algorithme."
   ]
  },
  {
   "cell_type": "code",
   "execution_count": null,
   "metadata": {
    "collapsed": true
   },
   "outputs": [],
   "source": []
  }
 ],
 "metadata": {
  "@webio": {
   "lastCommId": null,
   "lastKernelId": null
  },
  "kernelspec": {
   "display_name": "Python 3",
   "language": "python",
   "name": "python3"
  },
  "language_info": {
   "codemirror_mode": {
    "name": "ipython",
    "version": 3
   },
   "file_extension": ".py",
   "mimetype": "text/x-python",
   "name": "python",
   "nbconvert_exporter": "python",
   "pygments_lexer": "ipython3",
   "version": "3.6.7"
  }
 },
 "nbformat": 4,
 "nbformat_minor": 2
}
