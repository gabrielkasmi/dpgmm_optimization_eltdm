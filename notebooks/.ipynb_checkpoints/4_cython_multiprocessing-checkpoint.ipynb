{
 "cells": [
  {
   "cell_type": "markdown",
   "metadata": {},
   "source": [
    "# Elements logiciels  pour le traitement des données massives"
   ]
  },
  {
   "cell_type": "markdown",
   "metadata": {},
   "source": [
    "<b> Projet de fin de semestre - année universitaire 2019-2020 \n",
    "\n",
    "Hugo Thimonier, Gabriel Kasmi - 3A DS-SA </b>"
   ]
  },
  {
   "cell_type": "markdown",
   "metadata": {},
   "source": [
    "# 4. Performances de l'algorithme parallélisé"
   ]
  },
  {
   "cell_type": "markdown",
   "metadata": {},
   "source": [
    "Nous analysons finalement l'algorithme parallélisé. La principale difficulté pour paralléliser un tel algorithme vient du fait qu'il est séquentiel. Notre démarche a donc consisté à voir dans l'algorithme quelles étaient les étapes qui n'étaient pas séquentielles et à nous focaliser sur ces dernières pour pouvoir mener à bien notre parallélisation. Il se trouve que le calcul de la table de probabilité d'appartenance d'une observation à un cluster ne requiert pas la connaissance de l'étape antérieure (pour une observation et une itération données). Ainsi, après avoir optimisé ces fonctions en C, nous les avons parallélisé la boucle qui calcule la probabilité d'appartenance à chacun des clusters.\n",
    "\n",
    "\n",
    "\n"
   ]
  },
  {
   "cell_type": "code",
   "execution_count": 1,
   "metadata": {},
   "outputs": [
    {
     "data": {
      "text/html": [
       "<div id=\"my_id_menu_nb\">run previous cell, wait for 2 seconds</div>\n",
       "<script>\n",
       "function repeat_indent_string(n){\n",
       "    var a = \"\" ;\n",
       "    for ( ; n > 0 ; --n)\n",
       "        a += \"    \";\n",
       "    return a;\n",
       "}\n",
       "// look up into all sections and builds an automated menu //\n",
       "var update_menu_string = function(begin, lfirst, llast, sformat, send, keep_item, begin_format, end_format) {\n",
       "    var anchors = document.getElementsByClassName(\"section\");\n",
       "    if (anchors.length == 0) {\n",
       "        anchors = document.getElementsByClassName(\"text_cell_render rendered_html\");\n",
       "    }\n",
       "    var i,t;\n",
       "    var text_menu = begin;\n",
       "    var text_memo = \"<pre>\\nlength:\" + anchors.length + \"\\n\";\n",
       "    var ind = \"\";\n",
       "    var memo_level = 1;\n",
       "    var href;\n",
       "    var tags = [];\n",
       "    var main_item = 0;\n",
       "    var format_open = 0;\n",
       "    for (i = 0; i <= llast; i++)\n",
       "        tags.push(\"h\" + i);\n",
       "\n",
       "    for (i = 0; i < anchors.length; i++) {\n",
       "        text_memo += \"**\" + anchors[i].id + \"--\\n\";\n",
       "\n",
       "        var child = null;\n",
       "        for(t = 0; t < tags.length; t++) {\n",
       "            var r = anchors[i].getElementsByTagName(tags[t]);\n",
       "            if (r.length > 0) {\n",
       "child = r[0];\n",
       "break;\n",
       "            }\n",
       "        }\n",
       "        if (child == null) {\n",
       "            text_memo += \"null\\n\";\n",
       "            continue;\n",
       "        }\n",
       "        if (anchors[i].hasAttribute(\"id\")) {\n",
       "            // when converted in RST\n",
       "            href = anchors[i].id;\n",
       "            text_memo += \"#1-\" + href;\n",
       "            // passer à child suivant (le chercher)\n",
       "        }\n",
       "        else if (child.hasAttribute(\"id\")) {\n",
       "            // in a notebook\n",
       "            href = child.id;\n",
       "            text_memo += \"#2-\" + href;\n",
       "        }\n",
       "        else {\n",
       "            text_memo += \"#3-\" + \"*\" + \"\\n\";\n",
       "            continue;\n",
       "        }\n",
       "        var title = child.textContent;\n",
       "        var level = parseInt(child.tagName.substring(1,2));\n",
       "\n",
       "        text_memo += \"--\" + level + \"?\" + lfirst + \"--\" + title + \"\\n\";\n",
       "\n",
       "        if ((level < lfirst) || (level > llast)) {\n",
       "            continue ;\n",
       "        }\n",
       "        if (title.endsWith('¶')) {\n",
       "            title = title.substring(0,title.length-1).replace(\"<\", \"&lt;\")\n",
       "         .replace(\">\", \"&gt;\").replace(\"&\", \"&amp;\");\n",
       "        }\n",
       "        if (title.length == 0) {\n",
       "            continue;\n",
       "        }\n",
       "\n",
       "        while (level < memo_level) {\n",
       "            text_menu += end_format + \"</ul>\\n\";\n",
       "            format_open -= 1;\n",
       "            memo_level -= 1;\n",
       "        }\n",
       "        if (level == lfirst) {\n",
       "            main_item += 1;\n",
       "        }\n",
       "        if (keep_item != -1 && main_item != keep_item + 1) {\n",
       "            // alert(main_item + \" - \" + level + \" - \" + keep_item);\n",
       "            continue;\n",
       "        }\n",
       "        while (level > memo_level) {\n",
       "            text_menu += \"<ul>\\n\";\n",
       "            memo_level += 1;\n",
       "        }\n",
       "        text_menu += repeat_indent_string(level-2);\n",
       "        text_menu += begin_format + sformat.replace(\"__HREF__\", href).replace(\"__TITLE__\", title);\n",
       "        format_open += 1;\n",
       "    }\n",
       "    while (1 < memo_level) {\n",
       "        text_menu += end_format + \"</ul>\\n\";\n",
       "        memo_level -= 1;\n",
       "        format_open -= 1;\n",
       "    }\n",
       "    text_menu += send;\n",
       "    //text_menu += \"\\n\" + text_memo;\n",
       "\n",
       "    while (format_open > 0) {\n",
       "        text_menu += end_format;\n",
       "        format_open -= 1;\n",
       "    }\n",
       "    return text_menu;\n",
       "};\n",
       "var update_menu = function() {\n",
       "    var sbegin = \"\";\n",
       "    var sformat = '<a href=\"#__HREF__\">__TITLE__</a>';\n",
       "    var send = \"\";\n",
       "    var begin_format = '<li>';\n",
       "    var end_format = '</li>';\n",
       "    var keep_item = -1;\n",
       "    var text_menu = update_menu_string(sbegin, 2, 4, sformat, send, keep_item,\n",
       "       begin_format, end_format);\n",
       "    var menu = document.getElementById(\"my_id_menu_nb\");\n",
       "    menu.innerHTML=text_menu;\n",
       "};\n",
       "window.setTimeout(update_menu,2000);\n",
       "            </script>"
      ],
      "text/plain": [
       "<IPython.core.display.HTML object>"
      ]
     },
     "execution_count": 1,
     "metadata": {},
     "output_type": "execute_result"
    }
   ],
   "source": [
    "from jyquickhelper import add_notebook_menu\n",
    "add_notebook_menu()"
   ]
  },
  {
   "cell_type": "code",
   "execution_count": 10,
   "metadata": {
    "collapsed": true
   },
   "outputs": [],
   "source": [
    "%run '../Fonction_et_utilities/dpmm_optimized_cython_parallel.py'"
   ]
  },
  {
   "cell_type": "code",
   "execution_count": 11,
   "metadata": {},
   "outputs": [
    {
     "data": {
      "text/html": [
       "<div>\n",
       "<style scoped>\n",
       "    .dataframe tbody tr th:only-of-type {\n",
       "        vertical-align: middle;\n",
       "    }\n",
       "\n",
       "    .dataframe tbody tr th {\n",
       "        vertical-align: top;\n",
       "    }\n",
       "\n",
       "    .dataframe thead th {\n",
       "        text-align: right;\n",
       "    }\n",
       "</style>\n",
       "<table border=\"1\" class=\"dataframe\">\n",
       "  <thead>\n",
       "    <tr style=\"text-align: right;\">\n",
       "      <th></th>\n",
       "      <th>x_coordinate</th>\n",
       "      <th>y_coordinate</th>\n",
       "    </tr>\n",
       "  </thead>\n",
       "  <tbody>\n",
       "    <tr>\n",
       "      <th>0</th>\n",
       "      <td>-2.934991</td>\n",
       "      <td>-7.007746</td>\n",
       "    </tr>\n",
       "    <tr>\n",
       "      <th>1</th>\n",
       "      <td>6.356237</td>\n",
       "      <td>0.884789</td>\n",
       "    </tr>\n",
       "    <tr>\n",
       "      <th>2</th>\n",
       "      <td>-7.083561</td>\n",
       "      <td>3.303427</td>\n",
       "    </tr>\n",
       "    <tr>\n",
       "      <th>3</th>\n",
       "      <td>-3.678442</td>\n",
       "      <td>-7.383803</td>\n",
       "    </tr>\n",
       "    <tr>\n",
       "      <th>4</th>\n",
       "      <td>-2.803186</td>\n",
       "      <td>-1.294134</td>\n",
       "    </tr>\n",
       "  </tbody>\n",
       "</table>\n",
       "</div>"
      ],
      "text/plain": [
       "   x_coordinate  y_coordinate\n",
       "0     -2.934991     -7.007746\n",
       "1      6.356237      0.884789\n",
       "2     -7.083561      3.303427\n",
       "3     -3.678442     -7.383803\n",
       "4     -2.803186     -1.294134"
      ]
     },
     "execution_count": 11,
     "metadata": {},
     "output_type": "execute_result"
    }
   ],
   "source": [
    "import collections\n",
    "\n",
    "# Fichiers auxiliaires, utilitaires et paramètres\n",
    "# %run 'utilities.py'\n",
    "\n",
    "# Distribution a priori des centroïdes des clusters :\n",
    "mu_0 = np.array([0, 0]) # Espérance de la loi normale pour mu.\n",
    "Sigma_0 = 32 * np.eye(2) # Variance (échelle) de la loi normale pour mu.\n",
    "\n",
    "# Distribution a priori des variances des clusters : \n",
    "nu = 9.0 # Nombre de degrés de liberté de la loi inv-Wishart.\n",
    "sigma_0 =  1. # \"Variance\" (échelle) pour la loi inv-Wishart.\n",
    "\n",
    "# Paramètres complémentaires pour l'inférence.\n",
    "alpha = 0.03 # Paramètre d'échelle pour le processus de Dirichelet.\n",
    "sigma_x = 0.5 # Bruit sur les observations.\n",
    "\n",
    "# Nombre d'itérations pour l'algorithme de Gibbs :\n",
    "n_iter = 1\n",
    "\n",
    "\n",
    "# Importation du CSV des observations simulées\n",
    "\n",
    "raw_input = pd.read_csv('../data/simulated_observations.csv')\n",
    "data = raw_input[[\"x_coordinate\",'y_coordinate']]\n",
    "\n",
    "# Pour l'assignation des clusters, on a le choix. On commence avec une assignation \n",
    "# initiale dans un même cluster. \n",
    "c_pooled = np.ones(data.shape[0])\n",
    "\n",
    "data.head()\n"
   ]
  },
  {
   "cell_type": "markdown",
   "metadata": {},
   "source": [
    "### Premiers chronométrages"
   ]
  },
  {
   "cell_type": "code",
   "execution_count": 12,
   "metadata": {},
   "outputs": [
    {
     "data": {
      "text/plain": [
       "0.0655660629272461"
      ]
     },
     "execution_count": 12,
     "metadata": {},
     "output_type": "execute_result"
    }
   ],
   "source": [
    "# Essai sur une observation\n",
    "\n",
    "cython_dpmm_algorithm2(data, alpha, mu_0, Sigma_0, sigma_x, n_iter, c_pooled, savetime = True, traceback = False)[1]"
   ]
  },
  {
   "cell_type": "code",
   "execution_count": 13,
   "metadata": {},
   "outputs": [
    {
     "data": {
      "text/plain": [
       "0.03821620941162109"
      ]
     },
     "execution_count": 13,
     "metadata": {},
     "output_type": "execute_result"
    }
   ],
   "source": [
    "# Moyenne sur 100 exécutions\n",
    "\n",
    "times = []\n",
    "for i in range(100):\n",
    "    times.append(cython_dpmm_algorithm2(data, alpha, mu_0, Sigma_0, sigma_x, n_iter, c_pooled, savetime = True, traceback = False)[1])\n",
    "np.mean(times) "
   ]
  },
  {
   "cell_type": "markdown",
   "metadata": {},
   "source": [
    "### Recensement et affichage des threads"
   ]
  },
  {
   "cell_type": "code",
   "execution_count": 14,
   "metadata": {
    "scrolled": false
   },
   "outputs": [
    {
     "name": "stdout",
     "output_type": "stream",
     "text": [
      "         17062 function calls (17056 primitive calls) in 0.060 seconds\n",
      "\n",
      "   Ordered by: internal time\n",
      "\n",
      "   ncalls  tottime  percall  cumtime  percall filename:lineno(function)\n",
      "      250    0.013    0.000    0.021    0.000 {method 'choice' of 'numpy.random.mtrand.RandomState' objects}\n",
      "        1    0.010    0.010    0.059    0.059 dpmm_optimized_cython_parallel.py:410(cython_dpmm_algorithm2)\n",
      "      250    0.007    0.000    0.015    0.000 {built-in method dpmm_cython_functions.c_compute_log_probability_not_cluster}\n",
      "      500    0.004    0.000    0.004    0.000 {method 'reduce' of 'numpy.ufunc' objects}\n",
      "      250    0.003    0.000    0.007    0.000 linalg.py:2072(det)\n",
      "     1504    0.003    0.000    0.003    0.000 {built-in method numpy.array}\n",
      "      250    0.003    0.000    0.003    0.000 {built-in method dpmm_cython_functions.c_convert_into_probabilities}\n",
      "     1001    0.002    0.000    0.002    0.000 {built-in method numpy.empty}\n",
      "      500    0.001    0.000    0.001    0.000 {method 'astype' of 'numpy.generic' objects}\n",
      "      250    0.001    0.000    0.001    0.000 dpmm_optimized_cython_parallel.py:563(<listcomp>)\n",
      "      250    0.001    0.000    0.004    0.000 fromnumeric.py:73(_wrapreduction)\n",
      "  505/502    0.001    0.000    0.012    0.000 {built-in method numpy.core._multiarray_umath.implement_array_function}\n",
      "      251    0.001    0.000    0.001    0.000 linalg.py:144(_commonType)\n",
      "      500    0.001    0.000    0.001    0.000 getlimits.py:365(__new__)\n",
      "     1503    0.001    0.000    0.001    0.000 {built-in method builtins.issubclass}\n",
      "      250    0.001    0.000    0.004    0.000 fromnumeric.py:2792(prod)\n",
      "     1251    0.001    0.000    0.003    0.000 _asarray.py:16(asarray)\n",
      "      250    0.001    0.000    0.001    0.000 numerictypes.py:365(issubdtype)\n",
      "      500    0.001    0.000    0.001    0.000 numerictypes.py:293(issubclass_)\n",
      "      3/2    0.000    0.000    0.059    0.030 {built-in method builtins.exec}\n",
      "      250    0.000    0.000    0.005    0.000 <__array_function__ internals>:2(prod)\n",
      "      250    0.000    0.000    0.008    0.000 <__array_function__ internals>:2(det)\n",
      "      250    0.000    0.000    0.002    0.000 {method 'sum' of 'numpy.ndarray' objects}\n",
      "      252    0.000    0.000    0.000    0.000 {built-in method builtins.getattr}\n",
      "      250    0.000    0.000    0.000    0.000 fromnumeric.py:74(<dictcomp>)\n",
      "      251    0.000    0.000    0.000    0.000 linalg.py:209(_assertNdSquareness)\n",
      "      251    0.000    0.000    0.000    0.000 linalg.py:203(_assertRankAtLeast2)\n",
      "      752    0.000    0.000    0.000    0.000 {method 'get' of 'dict' objects}\n",
      "      502    0.000    0.000    0.000    0.000 linalg.py:121(isComplexType)\n",
      "1012/1010    0.000    0.000    0.000    0.000 {built-in method builtins.len}\n",
      "      251    0.000    0.000    0.000    0.000 linalg.py:134(_realType)\n",
      "      750    0.000    0.000    0.000    0.000 {method 'items' of 'dict' objects}\n",
      "      250    0.000    0.000    0.002    0.000 _methods.py:36(_sum)\n",
      "      627    0.000    0.000    0.000    0.000 {built-in method math.isnan}\n",
      "        1    0.000    0.000    0.000    0.000 {method 'sort' of 'numpy.ndarray' objects}\n",
      "      501    0.000    0.000    0.000    0.000 {method 'keys' of 'dict' objects}\n",
      "      251    0.000    0.000    0.000    0.000 linalg.py:482(_unary_dispatcher)\n",
      "        1    0.000    0.000    0.000    0.000 linalg.py:486(inv)\n",
      "      250    0.000    0.000    0.000    0.000 fromnumeric.py:2787(_prod_dispatcher)\n",
      "        2    0.000    0.000    0.000    0.000 {built-in method builtins.compile}\n",
      "        1    0.000    0.000    0.001    0.001 __init__.py:357(namedtuple)\n",
      "        1    0.000    0.000    0.000    0.000 arraysetops.py:297(_unique1d)\n",
      "        1    0.000    0.000    0.000    0.000 {built-in method builtins.__build_class__}\n",
      "       13    0.000    0.000    0.000    0.000 {method 'format' of 'str' objects}\n",
      "        2    0.000    0.000    0.059    0.030 interactiveshell.py:2832(run_code)\n",
      "        1    0.000    0.000    0.000    0.000 function_base.py:1147(diff)\n",
      "        2    0.000    0.000    0.000    0.000 twodim_base.py:154(eye)\n",
      "        2    0.000    0.000    0.000    0.000 {method 'astype' of 'numpy.ndarray' objects}\n",
      "        1    0.000    0.000    0.000    0.000 <ipython-input-14-96a4cc5d03ef>:10(<module>)\n",
      "        1    0.000    0.000    0.000    0.000 <string>:5(InnerParameters)\n",
      "        2    0.000    0.000    0.000    0.000 codeop.py:132(__call__)\n",
      "        1    0.000    0.000    0.000    0.000 <string>:1(<module>)\n",
      "        1    0.000    0.000    0.059    0.059 <ipython-input-14-96a4cc5d03ef>:8(<module>)\n",
      "        1    0.000    0.000    0.000    0.000 {method 'flatten' of 'numpy.ndarray' objects}\n",
      "        2    0.000    0.000    0.000    0.000 {built-in method numpy.zeros}\n",
      "        1    0.000    0.000    0.000    0.000 internals.py:3351(_is_single_block)\n",
      "        2    0.000    0.000    0.000    0.000 {method 'join' of 'str' objects}\n",
      "        4    0.000    0.000    0.000    0.000 {built-in method builtins.hasattr}\n",
      "        1    0.000    0.000    0.000    0.000 <string>:12(__new__)\n",
      "        7    0.000    0.000    0.000    0.000 __init__.py:420(<genexpr>)\n",
      "        1    0.000    0.000    0.000    0.000 arraysetops.py:151(unique)\n",
      "        1    0.000    0.000    0.000    0.000 generic.py:4423(_protect_consolidate)\n",
      "        2    0.000    0.000    0.000    0.000 hooks.py:142(__call__)\n",
      "        1    0.000    0.000    0.000    0.000 {method 'transpose' of 'numpy.ndarray' objects}\n",
      "        1    0.000    0.000    0.000    0.000 linalg.py:116(_makearray)\n",
      "        1    0.000    0.000    0.000    0.000 <__array_function__ internals>:2(inv)\n",
      "        1    0.000    0.000    0.000    0.000 internals.py:3922(as_array)\n",
      "        7    0.000    0.000    0.000    0.000 {method 'isidentifier' of 'str' objects}\n",
      "        1    0.000    0.000    0.000    0.000 {built-in method builtins.repr}\n",
      "        3    0.000    0.000    0.000    0.000 <frozen importlib._bootstrap>:997(_handle_fromlist)\n",
      "        7    0.000    0.000    0.000    0.000 __init__.py:422(<genexpr>)\n",
      "        2    0.000    0.000    0.000    0.000 ipstruct.py:125(__getattr__)\n",
      "        1    0.000    0.000    0.000    0.000 fromnumeric.py:55(_wrapfunc)\n",
      "        1    0.000    0.000    0.000    0.000 <__array_function__ internals>:2(nonzero)\n",
      "        1    0.000    0.000    0.000    0.000 <__array_function__ internals>:2(unique)\n",
      "        1    0.000    0.000    0.000    0.000 generic.py:4378(__setattr__)\n",
      "        1    0.000    0.000    0.000    0.000 generic.py:4436(f)\n",
      "        1    0.000    0.000    0.000    0.000 generic.py:4563(values)\n",
      "        1    0.000    0.000    0.000    0.000 {method 'replace' of 'str' objects}\n",
      "        6    0.000    0.000    0.000    0.000 {method 'startswith' of 'str' objects}\n",
      "        1    0.000    0.000    0.000    0.000 fromnumeric.py:1759(nonzero)\n",
      "        1    0.000    0.000    0.000    0.000 <__array_function__ internals>:2(concatenate)\n",
      "        1    0.000    0.000    0.000    0.000 {method 'nonzero' of 'numpy.ndarray' objects}\n",
      "        1    0.000    0.000    0.000    0.000 linalg.py:111(get_linalg_error_extobj)\n",
      "        1    0.000    0.000    0.000    0.000 generic.py:4433(_consolidate_inplace)\n",
      "        1    0.000    0.000    0.000    0.000 {built-in method __new__ of type object at 0x10d89ddd8}\n",
      "        2    0.000    0.000    0.000    0.000 {built-in method builtins.isinstance}\n",
      "        1    0.000    0.000    0.000    0.000 {built-in method sys._getframe}\n",
      "        2    0.000    0.000    0.000    0.000 interactiveshell.py:1055(user_global_ns)\n",
      "        1    0.000    0.000    0.000    0.000 {method 'disable' of '_lsprof.Profiler' objects}\n",
      "        1    0.000    0.000    0.000    0.000 multiarray.py:145(concatenate)\n",
      "        3    0.000    0.000    0.000    0.000 _asarray.py:88(asanyarray)\n",
      "        1    0.000    0.000    0.000    0.000 {built-in method numpy.core._multiarray_umath.normalize_axis_index}\n",
      "        1    0.000    0.000    0.000    0.000 function_base.py:1143(_diff_dispatcher)\n",
      "        1    0.000    0.000    0.000    0.000 <__array_function__ internals>:2(diff)\n",
      "        1    0.000    0.000    0.000    0.000 arraysetops.py:138(_unpack_tuple)\n",
      "        1    0.000    0.000    0.000    0.000 common.py:89(is_object_dtype)\n",
      "        1    0.000    0.000    0.000    0.000 base.py:641(__len__)\n",
      "        1    0.000    0.000    0.000    0.000 internals.py:3311(ndim)\n",
      "        1    0.000    0.000    0.000    0.000 internals.py:3473(__len__)\n",
      "        1    0.000    0.000    0.000    0.000 internals.py:3776(is_consolidated)\n",
      "        1    0.000    0.000    0.000    0.000 internals.py:4085(consolidate)\n",
      "        1    0.000    0.000    0.000    0.000 internals.py:213(get_values)\n",
      "        2    0.000    0.000    0.000    0.000 internals.py:233(mgr_locs)\n",
      "        1    0.000    0.000    0.000    0.000 {method 'append' of 'list' objects}\n",
      "        6    0.000    0.000    0.000    0.000 {method 'add' of 'set' objects}\n",
      "        7    0.000    0.000    0.000    0.000 {method '__contains__' of 'frozenset' objects}\n",
      "        2    0.000    0.000    0.000    0.000 {built-in method time.time}\n",
      "        2    0.000    0.000    0.000    0.000 hooks.py:207(pre_run_code_hook)\n",
      "        1    0.000    0.000    0.000    0.000 fromnumeric.py:1755(_nonzero_dispatcher)\n",
      "        1    0.000    0.000    0.000    0.000 {method '__array_prepare__' of 'numpy.ndarray' objects}\n",
      "        1    0.000    0.000    0.000    0.000 arraysetops.py:146(_unique_dispatcher)\n",
      "        1    0.000    0.000    0.000    0.000 internals.py:3384(_get_items)\n",
      "\n",
      "\n"
     ]
    }
   ],
   "source": [
    "# Recensement des threads\n",
    "\n",
    "import cProfile\n",
    "\n",
    "pr = cProfile.Profile()\n",
    "pr.enable()\n",
    " \n",
    "cython_dpmm_algorithm2(data, alpha, mu_0, Sigma_0, sigma_x, n_iter, c_pooled, savetime = True, traceback = False)\n",
    " \n",
    "pr.disable()\n",
    " \n",
    "pr.print_stats(sort='time')"
   ]
  },
  {
   "cell_type": "code",
   "execution_count": 15,
   "metadata": {},
   "outputs": [
    {
     "data": {
      "image/png": "[encoded data removed]",
      "text/plain": [
       "<IPython.core.display.Image object>"
      ]
     },
     "execution_count": 15,
     "metadata": {},
     "output_type": "execute_result"
    }
   ],
   "source": [
    "# Affichage des threads sous forme de graphe\n",
    "\n",
    "from pycallgraph import PyCallGraph\n",
    "from pycallgraph.output import GraphvizOutput\n",
    "\n",
    "graphviz = GraphvizOutput()\n",
    "graphviz.output_file = '../figures/threads_parallelized_algorithm.png'\n",
    "\n",
    "with PyCallGraph(output=graphviz, config=None):\n",
    "    cython_dpmm_algorithm2(data, alpha, mu_0, Sigma_0, sigma_x, n_iter, c_pooled, savetime = True, traceback = False)\n",
    "    \n",
    "    \n",
    "from IPython.display import Image\n",
    "Image(filename='../figures/threads_parallelized_algorithm.png')     "
   ]
  },
  {
   "cell_type": "markdown",
   "metadata": {},
   "source": [
    "### Performances en fonction du nombre d'itérations"
   ]
  },
  {
   "cell_type": "code",
   "execution_count": 16,
   "metadata": {},
   "outputs": [
    {
     "name": "stderr",
     "output_type": "stream",
     "text": [
      "100% |########################################################################|\n"
     ]
    }
   ],
   "source": [
    "import numpy as np\n",
    "from progressbar import ProgressBar\n",
    "\n",
    "pbar = ProgressBar()\n",
    "\n",
    "values = np.linspace(1,10,5, dtype = int)\n",
    "times = []\n",
    "n_reps = 10\n",
    "for j in pbar(values):\n",
    "    times_intermediate = []\n",
    "    for i in range(n_reps):\n",
    "        times_intermediate.append(cython_dpmm_algorithm2(data, alpha, mu_0, Sigma_0, sigma_x, j, c_pooled, savetime = True, traceback = False)[1])\n",
    "    times.append(np.mean(times_intermediate)) "
   ]
  },
  {
   "cell_type": "code",
   "execution_count": 17,
   "metadata": {},
   "outputs": [
    {
     "data": {
      "image/png": "[encoded data removed]",
      "text/plain": [
       "<matplotlib.figure.Figure at 0x1a1c1f0c50>"
      ]
     },
     "metadata": {},
     "output_type": "display_data"
    }
   ],
   "source": [
    "import matplotlib.pyplot as plt\n",
    "\n",
    "plt.plot(values, times)\n",
    "plt.title(\"Temps d'exécution moyen sur 10 répétitions en fonction du nombre de répétitions\")\n",
    "plt.show()"
   ]
  },
  {
   "cell_type": "markdown",
   "metadata": {},
   "source": [
    "### Performances en fonction du nombre d'observations"
   ]
  },
  {
   "cell_type": "code",
   "execution_count": 22,
   "metadata": {},
   "outputs": [
    {
     "data": {
      "image/png": "[encoded data removed]",
      "text/plain": [
       "<matplotlib.figure.Figure at 0x1a1e345f60>"
      ]
     },
     "metadata": {},
     "output_type": "display_data"
    }
   ],
   "source": [
    "# Charger les données avec 500 et 1000 observations\n",
    "\n",
    "raw_2 = pd.read_csv('../data/simulated_observations_500.csv')\n",
    "data_500 = raw_2[[\"x_coordinate\",'y_coordinate']]\n",
    "\n",
    "raw_3 = pd.read_csv('../data/simulated_observations_1000.csv')\n",
    "data_1000 = raw_3[[\"x_coordinate\",'y_coordinate']]\n",
    "\n",
    "# Liste avec les trois données \n",
    "\n",
    "observations = {250 : data,\n",
    "               500 : data_500,\n",
    "               1000 : data_1000}\n",
    "\n",
    "# Nombre d'observations et calcul du temps d'éxecution avec 10 itérations à chaque pas\n",
    "\n",
    "times_obs = []\n",
    "\n",
    "n_reps, n_iter = 10, 10\n",
    "for d in observations.keys():\n",
    "    data_shape = observations[d].shape[0]\n",
    "    c_init = np.ones(data_shape)\n",
    "    times_intermediate = []\n",
    "    data_to_test = observations[d]\n",
    "    for i in range(n_reps):\n",
    "        times_intermediate.append(cython_dpmm_algorithm2(data_to_test, alpha, mu_0, Sigma_0, sigma_x, n_iter, c_init, savetime = True, traceback = False)[1])\n",
    "    \n",
    "    times_obs.append(np.mean(times_intermediate))\n",
    "\n",
    "\n",
    "plt.plot(observations.keys(), times_obs)\n",
    "plt.title(\"Temps d'exécution moyen sur 10 répétitions pour 10 itérations en fonction du nombre d'observations\")\n",
    "plt.show()        "
   ]
  },
  {
   "cell_type": "code",
   "execution_count": null,
   "metadata": {
    "collapsed": true
   },
   "outputs": [],
   "source": []
  }
 ],
 "metadata": {
  "kernelspec": {
   "display_name": "Python 3",
   "language": "python",
   "name": "python3"
  },
  "language_info": {
   "codemirror_mode": {
    "name": "ipython",
    "version": 3
   },
   "file_extension": ".py",
   "mimetype": "text/x-python",
   "name": "python",
   "nbconvert_exporter": "python",
   "pygments_lexer": "ipython3",
   "version": "3.6.7"
  }
 },
 "nbformat": 4,
 "nbformat_minor": 2
}
